{
  "nbformat": 4,
  "nbformat_minor": 0,
  "metadata": {
    "colab": {
      "provenance": [],
      "collapsed_sections": [
        "imJ1tufnVgDC"
      ]
    },
    "kernelspec": {
      "name": "python3",
      "display_name": "Python 3"
    },
    "language_info": {
      "name": "python"
    }
  },
  "cells": [
    {
      "cell_type": "markdown",
      "source": [
        "#  Section 1 : Python Basics Questions"
      ],
      "metadata": {
        "id": "m-697u1xVUvQ"
      }
    },
    {
      "cell_type": "markdown",
      "source": [
        "### **Q.1 What is Object-Oriented Programming (OOP)?**\n",
        "\n",
        "Ans:\n",
        "\n",
        "-  Object-Oriented Programming (OOP) is a programming paradigm that uses objects and classes to model real-world entities.\n",
        "- It focuses on concepts like\n",
        "  - inheritance,\n",
        "  - encapsulation,\n",
        "  - polymorphism, and\n",
        "  - abstraction\n",
        "- to make code more\n",
        "  - modular,\n",
        "  - reusable, and\n",
        "  - easier to maintain.\n",
        "\n",
        "**Example**: Imagine a car. It has data (color, speed) and actions (drive, stop). In OOP, we create a car class and then make car objects from it.\n",
        "\n",
        "\n",
        "\n"
      ],
      "metadata": {
        "id": "gJNe2gdvO1qE"
      }
    },
    {
      "cell_type": "markdown",
      "source": [
        "**Key Concepts of OOP**\n",
        "\n",
        "1. **Class**: A blueprint for creating objects. It defines the attributes and methods the objects will have.\n",
        "           -  A car design blueprint.\n",
        "\n",
        "2. **Object**: An instance of a class.\n",
        "           - A specific car made from that blueprint — like a Black Ferrari with license plate ABC123.\n",
        "\n",
        "3. **Encapsulation**: Hides the internal state and only exposes a controlled interface.\n",
        "    - Think: private data, public methods to interact with it.\n",
        "\n",
        "4. **Inheritance**: One class (child) can inherit the properties and methods of another (parent).\n",
        "\n",
        "5. **Polymorphism**: Objects can take many forms—specifically, a child class can override or extend methods from the parent class.\n",
        "\n",
        "6. **Abstraction**: Hiding complex details and showing only the necessary parts of an object’s behavior.\n",
        "    - Typically done using abstract classes or interfaces."
      ],
      "metadata": {
        "id": "14TMr28TvKrJ"
      }
    },
    {
      "cell_type": "markdown",
      "source": [
        "### **Q.2 What is a class in OOP**\n",
        "\n",
        "Ans:\n",
        "\n",
        "- **Class**: A blueprint for creating objects. It defines the attributes and methods the objects will have.\n",
        "- A class is a  **blueprint** for creating objects;\n",
        "- It defines the\n",
        "  -  structure (attributes/variables) and\n",
        "  -  behavior (methods/functions) that the objects will have.\n",
        "- It acts as a design model for real-world entities.\n",
        "\n",
        "🔹 Example:\n",
        "\"Student\" can be a class. All students have attributes like name, age, and marks, and methods like study() or attend_class().\n",
        "\n"
      ],
      "metadata": {
        "id": "Ss_knpbahyQl"
      }
    },
    {
      "cell_type": "markdown",
      "source": [
        "### **Q.3 What is an object in OOP**\n",
        "\n",
        "Ans:\n",
        "\n",
        "- **Object**: An instance of a class.\n",
        "\n",
        "- It is a real-world entity that has actual values for the properties defined in the class.\n",
        "\n",
        "- While the class is just a blueprint, the object is the final product created from it.\n",
        "\n",
        "- Objects can perform actions (methods) as defined in their class.\n",
        "\n",
        "- Multiple objects can be created from a single class, each with unique data.\n",
        "\n",
        "\n",
        "🔹 Example:\n",
        "If Student is a class, then Ravi is an object of that class.\n",
        "Ravi has his own name, age, and marks as defined by the class structure.\n",
        "\n"
      ],
      "metadata": {
        "id": "3VrIy4i0il6B"
      }
    },
    {
      "cell_type": "markdown",
      "source": [
        "###  **Q.4 What is the difference between abstraction and encapsulation**\n",
        "\n",
        "Ans:\n",
        "\n",
        "The difference between abstraction and encapsulation are\n",
        "\n",
        "- ABSTRACTION\n",
        " - Hiding implementation details and exposing only shows relevant features / functionalities.\n",
        "\n",
        "- ENCAPSULATION\n",
        " - Encapsulation means wrapping data and methods together into one unit (class) and restricting direct access.\n",
        "\n",
        "\n",
        "🔹 Example1:\n",
        "\n",
        "   - When using a washing machine:\n",
        "   - You just select the mode (abstraction – you don’t need to know the internal mechanism).  \n",
        "   - The machine hides all wires and circuits inside (encapsulation – protects the internal parts).\n",
        "\n",
        "🔹 Example 2:\n",
        "- When you drive a car, you use the steering wheel (abstraction) without knowing the internal mechanics. The engine and parts are hidden and protected (encapsulation).\n",
        "\n",
        "> Key Differences:\n",
        "\n",
        "\n",
        "| Feature         | Abstraction                                      | Encapsulation                              |\n",
        "| --------------- | ------------------------------------------------ | ------------------------------------------ |\n",
        "| Focus           | Hiding **implementation details**                | Hiding **data (internal state)**           |\n",
        "| Main Goal       | Simplicity                                       | Protection                                 |\n",
        "| Achieved by     | Abstract classes, interfaces, method definitions | Access modifiers, getters/setters          |\n",
        "| Example Concept | What a car does (drive, brake)                   | How speed is stored and updated internally |\n",
        "\n"
      ],
      "metadata": {
        "id": "mkrQfloVimEj"
      }
    },
    {
      "cell_type": "markdown",
      "source": [
        "###  **Q.5 What are dunder methods in Python**\n",
        "\n",
        "Ans:\n",
        "\n",
        "- Dunder methods = Special methods with double underscores\n",
        "  -  They begin and end with double underscores: __method__.\n",
        "  -  (e.g., __init__, __str__)\n",
        "  - Python uses them to define or customize the behavior of objects with built-in operations (like printing, adding, comparing, etc.).\n",
        "  - These methods are automatically called during certain actions.\n",
        "\n",
        "\n",
        "- Special methods Python uses to implement behaviors of objects.\n",
        "- used to define behavior for built-in operations.\n",
        "\n",
        "🔹 Example:\n",
        "\n",
        "init() – Constructor :Called when an object is created (used for initialization).\n",
        "\n",
        "str() – String representation :Returns a readable string representation of the object (used in print()).\n",
        "\n",
        "repr() – Debugging representation :Returns a developer-friendly string for debugging.\n",
        "\n",
        "len() – Length of object :Returns the length of the object (used in len()).\n"
      ],
      "metadata": {
        "id": "KFGvCXzWimJ7"
      }
    },
    {
      "cell_type": "markdown",
      "source": [
        "| Dunder Method | Purpose                                    | Example Usage      |\n",
        "| ------------- | ------------------------------------------ | ------------------ |\n",
        "| `__init__`    | Constructor (initializes object)           | `obj = MyClass()`  |\n",
        "| `__str__`     | String representation for `print()`        | `print(obj)`       |\n",
        "| `__repr__`    | Official string representation             | `repr(obj)`        |\n",
        "| `__len__`     | Length of object                           | `len(obj)`         |\n",
        "| `__getitem__` | Access item like in a list/dict            | `obj[key]`         |\n",
        "| `__setitem__` | Set item like in a list/dict               | `obj[key] = value` |\n",
        "| `__add__`     | Addition operator (`+`)                    | `obj1 + obj2`      |\n",
        "| `__eq__`      | Equality comparison (`==`)                 | `obj1 == obj2`     |\n",
        "| `__lt__`      | Less than (`<`)                            | `obj1 < obj2`      |\n",
        "| `__call__`    | Make object callable like a function       | `obj()`            |\n",
        "| `__del__`     | Destructor (called when object is deleted) | `del obj`          |\n"
      ],
      "metadata": {
        "id": "o7Qza05yuOiY"
      }
    },
    {
      "cell_type": "markdown",
      "source": [
        "###  **Q.6 Explain the concept of inheritance in OOP**\n",
        "\n",
        "Ans:\n",
        "- Inheritance allows a class (child) to inherit properties and methods from another class (parent).\n",
        "\n",
        "- Child class inherits properties and methods from Parent class.\n",
        "\n",
        "- It promotes code reuse and removes repetition.\n",
        "\n",
        "- Child class can add or override behaviors.\n",
        "\n",
        "🔹 Example:\n",
        "A \"Dog\" class can inherit from an \"Animal\" class. It automatically gets the \"breathe\", \"eat\", and \"sleep\" methods of Animal\n"
      ],
      "metadata": {
        "id": "oeei7Ue4imOh"
      }
    },
    {
      "cell_type": "markdown",
      "source": [
        "**Types of Inheritance**\n"
      ],
      "metadata": {
        "id": "XcKic-lJubS5"
      }
    },
    {
      "cell_type": "markdown",
      "source": [
        "| Type             | Description                               | Example                                |\n",
        "| ---------------- | ----------------------------------------- | -------------------------------------- |\n",
        "| **Single**       | One child inherits from one parent        | `class Dog(Animal)`                    |\n",
        "| **Multiple**     | One child inherits from multiple parents  | `class Child(Mother, Father)`          |\n",
        "| **Multilevel**   | Chain of inheritance (A → B → C)          | `class C(B), class B(A)`               |\n",
        "| **Hierarchical** | Multiple children inherit from one parent | `class Dog(Animal), class Cat(Animal)` |\n",
        "| **Hybrid**       | Combination of the above                  | Complex scenarios                      |\n"
      ],
      "metadata": {
        "id": "0rTPm9NLubbV"
      }
    },
    {
      "cell_type": "markdown",
      "source": [
        "###  **Q.7 What is polymorphism in OOP**\n",
        "\n",
        "Ans:\n",
        "\n",
        "- Polymorphism means many forms.\n",
        "- Polymorphism allows different classes to define methods with the same name but different implementations.\n",
        "\n",
        "- It enables a single function or method to operate in different contexts.\n",
        "\n",
        "- It enhances flexibility and reusability in code.\n",
        "\n",
        "🔹 Example:\n",
        "All animals have a \"speak\" function. But:\n",
        "\n",
        "A dog barks,\n",
        "\n",
        "A cat meows,\n",
        "\n",
        "A cow moos.\n",
        "Same function name, different behaviors.\n",
        "\n",
        "\n",
        "- `Types of Polymorphism in Python`\n",
        "1. Compile-time Polymorphism (not supported directly in Python):\n",
        "   - Achieved in other languages via method overloading (same method name with different parameters).\n",
        "   - Python doesn't support this natively, but you can use default parameters or *args.\n",
        "2. Run-time Polymorphism (common in Python):\n",
        "   - Achieved through method overriding in inheritance.\n",
        "\n"
      ],
      "metadata": {
        "id": "K1aKkdPCimUF"
      }
    },
    {
      "cell_type": "markdown",
      "source": [
        "### **Q.8  How is encapsulation achieved in Python**\n",
        "\n",
        "Ans:\n",
        "\n",
        "Encapsulation in Python is achieved by restricting access to an object’s data and methods to protect the internal state of the object. This is done using:\n",
        "\n",
        "1. Access Modifiers: Python uses a naming convention (not strict enforcement) to indicate the access level of attributes and methods:\n",
        "\n",
        "| Modifier      | Syntax   | Access Level                                                     |\n",
        "| ------------- | -------- | ---------------------------------------------------------------- |\n",
        "| **Public**    | `name`   | Accessible from anywhere                                         |\n",
        "| **Protected** | `_name`  | Should be accessed only within class or subclass (by convention) |\n",
        "| **Private**   | `__name` | Name mangled to prevent direct access from outside               |\n",
        "\n",
        "\n",
        "2. Using Getter and Setter Methods: These control how private/protected data is accessed or modified:\n",
        "\n"
      ],
      "metadata": {
        "id": "oVkSRRT7hwJE"
      }
    },
    {
      "cell_type": "markdown",
      "source": [
        "\n",
        "| Feature       | Python Syntax       | Purpose                        |\n",
        "| ------------- | ------------------- | ------------------------------ |\n",
        "| Public        | `self.name`         | Freely accessible              |\n",
        "| Protected     | `self._name`        | Internal use (by convention)   |\n",
        "| Private       | `self.__name`       | Hidden via name mangling       |\n",
        "| Getter/Setter | `get_x() / set_x()` | Controlled access/modification |\n"
      ],
      "metadata": {
        "id": "W0m39gOEyiBI"
      }
    },
    {
      "cell_type": "markdown",
      "source": [
        "### **Q.9  What is a constructor in Python**\n",
        "\n",
        "Ans:\n",
        "\n",
        "- A constructor in Python is a special method used to initialize a newly created object.\n",
        "- It is automatically called when an object of a class is created.\n",
        "\n",
        "> Constructor Name in Python: __init__() :\n",
        "\n",
        "1. Defined using the def __init__(self, ...) method.\n",
        "2. The self parameter refers to the current instance of the class.\n",
        "3. You can pass additional parameters to initialize object attributes.\n",
        "\n",
        "> - Types of Constructors:\n",
        "    -  Default Constructor: No parameters except self.\n",
        "    -  Parameterized Constructor: Accepts additional arguments to set values during object creation.\n"
      ],
      "metadata": {
        "id": "s9FcESAAjY-E"
      }
    },
    {
      "cell_type": "markdown",
      "source": [
        "### **Q.10  What are class and static methods in Python?**\n",
        "\n",
        "Ans:\n",
        "\n",
        "In Python, class methods and static methods are special methods used within a class that are not tied to a specific instance (object), but they differ in purpose and usage.\n",
        "\n",
        "1. **Class Method:**\n",
        "    - Declared with @classmethod decorator.\n",
        "    - Takes cls as the first parameter, referring to the class itself.\n",
        "    - Can access and modify class-level attributes.\n",
        "    - Often used for factory methods (alternative constructors).\n",
        "\n",
        "\n",
        "2. **Static Method:**\n",
        "    - Declared with @staticmethod decorator.\n",
        "    - Does not take self or cls as the first argument.\n",
        "    - Cannot access or modify class or instance data.\n",
        "    - Used for utility/helper functions related to the class.\n",
        "\n",
        "\n",
        "    Summary Table:\n",
        "\n",
        "\n",
        "| Feature         | Instance Method  | Class Method              | Static Method            |\n",
        "| --------------- | ---------------- | ------------------------- | ------------------------ |\n",
        "| First parameter | `self`           | `cls`                     | No required first param  |\n",
        "| Access to       | Instance & class | Class only                | Neither                  |\n",
        "| Decorator       | None             | `@classmethod`            | `@staticmethod`          |\n",
        "| Common use      | Object behavior  | Factory methods, settings | Utility/helper functions |\n",
        "\n",
        "\n",
        "\n"
      ],
      "metadata": {
        "id": "s_iWsR5kja9x"
      }
    },
    {
      "cell_type": "markdown",
      "source": [
        "### **Q.11 What is method overloading in Python**\n",
        "\n",
        "Ans:\n",
        "\n",
        "\n",
        "Method overloading means having multiple methods with the same name but different parameters (number or type). It allows a class to respond differently based on how a method is called.\n",
        "\n",
        "> Python Does Not Support Traditional Method Overloading:\n",
        "- Unlike languages like Java or C++, Python doesn't support method overloading directly. If you define a method multiple times with the same name, only the last definition is used.\n",
        "\n",
        "\n",
        "> How to Simulate Method Overloading in Python\n",
        "- (Python doesn’t support traditional overloading; can use default arguments or *args.)\n",
        " -  1. Using Default Arguments\n",
        " -  2. Using Variable-Length Arguments (*args)\n"
      ],
      "metadata": {
        "id": "LxeEeVTpjcqO"
      }
    },
    {
      "cell_type": "markdown",
      "source": [
        "### **Q.12 What is method overriding in OOP?**\n",
        "\n",
        "Ans:\n",
        "Method overriding allows a subclass to provide a specific implementation of a method that is already defined in its parent class. The method name and parameters must be the same in both classes."
      ],
      "metadata": {
        "id": "wR1Y9us4jfXT"
      }
    },
    {
      "cell_type": "markdown",
      "source": [
        "> Method Overriding vs Method Overloading\n",
        "\n",
        "| Feature             | Overriding             | Overloading (Not native in Python) |\n",
        "| ------------------- | ---------------------- | ---------------------------------- |\n",
        "| Involves            | Parent ↔ Child classes | Same class                         |\n",
        "| Parameters          | Must match             | Can differ (number/type)           |\n",
        "| Supported in Python | ✅ Yes                | ❌ Not directly                    |\n"
      ],
      "metadata": {
        "id": "ANZ3XV_p10zn"
      }
    },
    {
      "cell_type": "markdown",
      "source": [
        "###  **Q.13 What is a property decorator in Python?**\n",
        "\n",
        "Ans:\n",
        "\n",
        "The property decorator (@property) allows you to define getter, setter, and deleter methods in a class in a clean and readable way. It lets you access methods like attributes, providing controlled access to instance variables.\n",
        "\n",
        "> Why we Use @property?\n",
        "- To control access to private attributes.\n",
        "- To add logic when getting (or setting) a value.\n",
        "- To maintain backward compatibility with attribute-style access."
      ],
      "metadata": {
        "id": "oW2QNWFJjguM"
      }
    },
    {
      "cell_type": "markdown",
      "source": [
        "###  **Q.14 Why is polymorphism important in OOP?**\n",
        "\n",
        "Ans:\n",
        "Polymorphism is crucial in Object-Oriented Programming because it promotes flexibility, reusability, and scalability in your code. It allows different classes to be treated as if they share the same interface, even though their implementations may differ.\n",
        "\n",
        "> **Key Benefits of Polymorphism**\n",
        "\n",
        "| Benefit              | Description                                                                     |\n",
        "| -------------------- | ------------------------------------------------------------------------------- |\n",
        "| **Code Reusability** | Write general-purpose code that works with different types or classes.          |\n",
        "| **Flexibility**      | You can use different objects interchangeably if they share a common interface. |\n",
        "| **Maintainability**  | Easier to update or extend functionality without breaking existing code.        |\n",
        "| **Scalability**      | Supports adding new classes without modifying existing code.                    |\n"
      ],
      "metadata": {
        "id": "py8HZVX0i6bM"
      }
    },
    {
      "cell_type": "markdown",
      "source": [
        "**Without Polymorphism:**\n",
        "\n",
        "You’d need multiple if-else or switch statements to check types — this is inefficient, harder to read, and not scalable.\n"
      ],
      "metadata": {
        "id": "Bpco4-iI2e4e"
      }
    },
    {
      "cell_type": "markdown",
      "source": [
        "> Polymorphism is important in OOP because it:\n",
        "- Makes code simpler and cleaner\n",
        "- Encourages interface-based programming\n",
        "- Supports the Open/Closed Principle: open to extension, closed to modification"
      ],
      "metadata": {
        "id": "ppN4bSWO2kKf"
      }
    },
    {
      "cell_type": "markdown",
      "source": [
        "###  **Q.15 What is an abstract class in Python?**\n",
        "\n",
        "Ans:\n",
        "An abstract class is a class that cannot be instantiated directly and is designed to be a blueprint for other classes. It may contain one or more abstract methods—methods that have no implementation in the base class and must be implemented by any subclass.\n",
        "\n",
        "\n",
        "| Feature              | Description                                          |\n",
        "| -------------------- | ---------------------------------------------------- |\n",
        "| Cannot instantiate   | You **can't create an object** of an abstract class. |\n",
        "| Has abstract methods | Methods defined but not implemented (`pass`).        |\n",
        "| Enforces structure   | Subclasses **must** implement abstract methods.      |\n",
        "\n",
        "Why Use Abstract Classes?\n",
        "| Reason                    | Explanation                                      |\n",
        "| ------------------------- | ------------------------------------------------ |\n",
        "| Define a common interface | Ensure subclasses follow a specific structure.   |\n",
        "| Enforce implementation    | Prevent incomplete class definitions.            |\n",
        "| Promote code consistency  | Helpful in large codebases with many developers. |\n",
        "\n"
      ],
      "metadata": {
        "id": "Mh04dcJwd34c"
      }
    },
    {
      "cell_type": "markdown",
      "source": [
        "###  **Q.16 What are the advantages of OOP?**\n",
        "\n",
        "Ans:\n",
        "Object-Oriented Programming (OOP) is a programming paradigm based on the concept of “objects”, which contain data (attributes) and behavior (methods). It offers many advantages for building large, maintainable, and reusable software systems.\n",
        "\n",
        "1. Modularity:\n",
        "    - Code is organized into classes and objects.\n",
        "    - Makes complex programs easier to manage and understand.\n",
        "\n",
        "2. Reusability:\n",
        "    - Through inheritance, you can reuse code from existing classes.\n",
        "    - Avoids duplication, reduces development time.\n",
        "\n",
        "3. Encapsulation:\n",
        "    - Keeps data safe from outside interference by bundling it with methods.\n",
        "    - You can hide internal details and expose only what’s needed via public methods.\n",
        "\n",
        "4. Polymorphism:\n",
        "    - Same interface, different behaviors.\n",
        "    - Lets you write generic, flexible code that works with many types of objects.\n",
        "5. Inheritance:\n",
        "    - Enables a new class to inherit attributes and methods from an existing class.\n",
        "    - Supports hierarchical classification (e.g., Animal → Dog → Labrador).\n",
        "\n",
        "6. Easier Troubleshooting & Maintenance:\n",
        "    - Because code is modular, you can find and fix bugs more easily.\n",
        "    - Updates or changes in one part are less likely to break others.\n",
        "\n",
        "7. Scalability:\n",
        "    - OOP systems are easier to extend and scale as projects grow.\n",
        "\n",
        "8. Real-World Modeling:\n",
        "    - Classes model real-world entities (e.g., Car, BankAccount), making design more intuitive.\n"
      ],
      "metadata": {
        "id": "MEew2K69d5mw"
      }
    },
    {
      "cell_type": "markdown",
      "source": [
        "###  **Q.17 What is the difference between a class variable and an instance variable?**\n",
        "\n",
        "Ans:\n",
        "In Python, class variables and instance variables are both used to store data in a class, but they behave differently in terms of scope and sharing.\n",
        "\n",
        "1. Instance Variable\n",
        "    - Defined inside the constructor (__init__) using self.\n",
        "    - Unique to each object (instance).\n",
        "    - Used to store object-specific data.\n",
        "\n",
        "2. Class Variable\n",
        "    - Shared by all instances of the class.\n",
        "    - Defined outside of any method, usually right under the class definition.\n",
        "    - Used for common data shared by all objects.\n"
      ],
      "metadata": {
        "id": "zss6GAadd63R"
      }
    },
    {
      "cell_type": "markdown",
      "source": [
        "**Key Differences**\n",
        "\n",
        "\n",
        "| Feature        | Class Variable                      | Instance Variable                |\n",
        "| -------------- | ----------------------------------- | -------------------------------- |\n",
        "| Defined where? | Outside methods (directly in class) | Inside `__init__()` using `self` |\n",
        "| Shared?        | Yes, shared by all instances        | No, unique to each instance      |\n",
        "| Modified by    | Class name (`ClassName.var`)        | Instance (`self.var`)            |\n",
        "| Example use    | School name, company name           | Student name, employee ID        |\n",
        "  "
      ],
      "metadata": {
        "id": "cJczbsZ23ryq"
      }
    },
    {
      "cell_type": "markdown",
      "source": [
        "###  **Q.18 What is multiple inheritance in Python?**\n",
        "\n",
        "Ans:\n",
        "Multiple inheritance is a feature in Python where a class can inherit from more than one parent class. This means a child class can access attributes and methods of all parent classes.\n",
        "\n",
        "> Usage of Multiple Inheritance:    \n",
        "- To combine functionality from multiple sources.\n",
        "- Useful when a class needs behaviors from two or more class\n",
        "\n",
        "> Be Aware: Method Resolution Order (MRO):\n",
        "- When there is a conflict (e.g., same method name in multiple parents), Python follows MRO (left to right based on the inheritance order).\n"
      ],
      "metadata": {
        "id": "r0QbLSThd-FM"
      }
    },
    {
      "cell_type": "markdown",
      "source": [
        "###  **Q.19  Explain the purpose of ‘’__str__’ and ‘__repr__’ ‘ methods in Python?**\n",
        "\n",
        "Ans:\n",
        "Both __str__ and __repr__ are special (dunder) methods in Python used to define how objects are represented as strings. However, they serve different purposes:\n",
        "\n",
        "\n",
        "> __str__() — For Readable Output:\n",
        "- Called by the str() function and the print() statement.\n",
        "- Returns a user-friendly, informal string representation of the object.\n",
        "- Meant for end users.\n",
        "\n",
        "> __repr__() — For Debugging / Developers:\n",
        "- Called by the repr() function or when you type an object in the console.\n",
        "- Should return a detailed, unambiguous string that ideally looks like valid Python code.\n",
        "- Meant for developers.\n",
        "\n",
        "**When Both Are Defined**\n",
        "> If both __str__ and __repr__ are defined, then:\n",
        "- print(obj) uses __str__()\n",
        "- repr(obj) and console use __repr__()\n",
        "\n",
        "\n",
        "\n"
      ],
      "metadata": {
        "id": "_RM2NLYNd_bd"
      }
    },
    {
      "cell_type": "markdown",
      "source": [
        "| Method       | Called by          | Purpose               | Audience  |\n",
        "| ------------ | ------------------ | --------------------- | --------- |\n",
        "| `__str__()`  | `str()`, `print()` | User-friendly string  | End user  |\n",
        "| `__repr__()` | `repr()`, console  | Debug-friendly string | Developer |"
      ],
      "metadata": {
        "id": "dC417dxP4Lyj"
      }
    },
    {
      "cell_type": "markdown",
      "source": [
        "###  **Q.20 What is the significance of the ‘super()’ function in Python?**\n",
        "\n",
        "Ans:\n",
        "\n",
        "\n",
        "The super() function is used to call a method from a parent (or superclass) from within a child (subclass). It is especially useful in inheritance, where you want to extend or customize the behavior of a parent class without completely overriding it.\n",
        "\n",
        "| Purpose                      | Benefit                                                    |\n",
        "| ---------------------------- | ---------------------------------------------------------- |\n",
        "| Call parent methods          | Avoid code duplication                                     |\n",
        "| Initialize parent class      | Use parent's `__init__()` from child                       |\n",
        "| Support multiple inheritance | Helps Python follow Method Resolution Order (MRO) properly |\n",
        "| Make code more maintainable  | Automatically handles inheritance hierarchy                |\n"
      ],
      "metadata": {
        "id": "pAZNyeZ0eAtD"
      }
    },
    {
      "cell_type": "markdown",
      "source": [
        "###  **Q.21 What is the significance of the __del__ method in Python?**\n",
        "\n",
        "Ans:\n",
        "The __del__() method in Python is a special (dunder) method known as the destructor. It is called automatically when an object is about to be destroyed, meaning its memory is being reclaimed by Python’s garbage collector.\n"
      ],
      "metadata": {
        "id": "MbLwGaPPeCIz"
      }
    },
    {
      "cell_type": "markdown",
      "source": [
        "###  **Q.22 What is the difference between @staticmethod and @classmethod in Python?**\n",
        "\n",
        "Ans:\n",
        "Both `@staticmethod` and `@classmethod` are decorators used to define special types of methods in a class. The key difference lies in what they receive as their first argument and how they are used.\n",
        "\n",
        " 1. `@staticmethod`\n",
        "    - Doesn’t take self or cls as the first argument.\n",
        "    - It behaves just like a regular function, but it belongs to the class's namespace.\n",
        "    - Can be called via class or instance, but it doesn’t access or modify class or instance state.\n",
        "\n",
        "2. `@classmethod`\n",
        "    - Takes cls (class) as the first argument.\n",
        "    - Can access and modify class variables or call other class methods.\n",
        "    - Often used for factory methods (methods that return class instances)."
      ],
      "metadata": {
        "id": "aj9z5VN4eDfV"
      }
    },
    {
      "cell_type": "markdown",
      "source": [
        "###  **Q.23  How does polymorphism work in Python with inheritance?**\n",
        "\n",
        "Ans:\n",
        "Polymorphism allows objects of different classes to be treated as objects of a common superclass. In Python, this often works through inheritance, where subclasses override methods of a parent class, but can still be used interchangeably.\n",
        "\n",
        "> Key Idea: One interface, many implementations:\n",
        "\n",
        "    - You can call the same method on different objects, and they respond in their own way — thanks to inheritance and method overriding."
      ],
      "metadata": {
        "id": "jDeyUFoneFHQ"
      }
    },
    {
      "cell_type": "markdown",
      "source": [
        "###  **Q.24  What is method chaining in Python OOP?**\n",
        "\n",
        "Ans:\n",
        "Method chaining in Python refers to calling multiple methods on the same object in a single line, one after another. This is possible when each method returns the object itself, typically using return self.\n",
        "\n",
        " > Benefits of Method Chaining:\n",
        "- Improves code readability and conciseness.\n",
        "- Encourages a fluent programming style (like natural language).\n",
        "- Useful in builder patterns, data manipulation, and configuration APIs.\n",
        "\n"
      ],
      "metadata": {
        "id": "7M4pCHdaeGqi"
      }
    },
    {
      "cell_type": "markdown",
      "source": [
        "###  **Q.25 What is the purpose of the __call__ method in Python?**\n",
        "\n",
        "Ans:\n",
        "\n",
        " - The __call__() method in Python allows an instance of a class to be called like a function.\n",
        " - When you \"call\" an object using parentheses — e.g., obj() — Python automatically executes that object's __call__() method.\n",
        "\n",
        "-  Purpose:\n",
        "  -  It is used to make an instance of a class callable.\n",
        "\n",
        "  -  When you use object_name(), Python internally calls the object’s __call__() method\n",
        "\n",
        "- Example:\n",
        "Imagine a class TemperatureConverter with a __call__ method.\n",
        "If you create an object c_to_f, you can use it like a function:\n",
        "c_to_f(37) → this internally calls __call__() and converts the temperature."
      ],
      "metadata": {
        "id": "BzfHosoDeIA9"
      }
    },
    {
      "cell_type": "markdown",
      "source": [
        "# Section 2 : Python Practical Questions"
      ],
      "metadata": {
        "id": "imJ1tufnVgDC"
      }
    },
    {
      "cell_type": "markdown",
      "source": [
        "**Q.1  Create a parent class Animal with a method speak() that prints a generic message. Create a child class Dog that overrides the speak() method to print \"Bark!\".**"
      ],
      "metadata": {
        "id": "bDEZP-jGVyIJ"
      }
    },
    {
      "cell_type": "code",
      "source": [
        "#Ans:\n",
        "# Parent class\n",
        "class Animal:\n",
        "    def speak(self):\n",
        "        print(\"The animal makes a sound.\")\n",
        "\n",
        "# Child class\n",
        "class Dog(Animal):\n",
        "    def speak(self):\n",
        "        print(\"Bark!\")\n",
        "\n",
        "# Test the classes\n",
        "a = Animal()\n",
        "a.speak()   # Output: The animal makes a sound.\n",
        "\n",
        "d = Dog()\n",
        "d.speak()   # Output: Bark!"
      ],
      "metadata": {
        "colab": {
          "base_uri": "https://localhost:8080/"
        },
        "id": "ARD6jV-dZ-Fz",
        "outputId": "69ab86f8-fdbc-414f-af28-8fd971d4830a"
      },
      "execution_count": 92,
      "outputs": [
        {
          "output_type": "stream",
          "name": "stdout",
          "text": [
            "The animal makes a sound.\n",
            "Bark!\n"
          ]
        }
      ]
    },
    {
      "cell_type": "markdown",
      "source": [
        "\n",
        "**Q.2  Write a program to create an abstract class Shape with a method area(). Derive classes Circle and Rectangle from it and implement the area() method in both.**"
      ],
      "metadata": {
        "id": "EJ3es1PHXfE7"
      }
    },
    {
      "cell_type": "code",
      "source": [
        "#Ans:  Python program that defines an abstract class Shape using the abc module and implements the area() method in two derived classes: Circle and Rectangle.\n",
        "from abc import ABC, abstractmethod\n",
        "import math\n",
        "\n",
        "# Abstract Base Class\n",
        "class Shape(ABC):\n",
        "    @abstractmethod\n",
        "    def area(self):\n",
        "        pass\n",
        "\n",
        "# Derived Class: Circle\n",
        "class Circle(Shape):\n",
        "    def __init__(self, radius):\n",
        "        self.radius = radius\n",
        "\n",
        "    def area(self):\n",
        "        return math.pi * self.radius * self.radius\n",
        "\n",
        "# Derived Class: Rectangle\n",
        "class Rectangle(Shape):\n",
        "    def __init__(self, length, width):\n",
        "        self.length = length\n",
        "        self.width = width\n",
        "\n",
        "    def area(self):\n",
        "        return self.length * self.width\n",
        "\n",
        "# Creating objects\n",
        "c = Circle(5)\n",
        "r = Rectangle(4, 6)\n",
        "\n",
        "print(\"Area of Circle:\", c.area())# Output: Area of Circle: 78.54\n",
        "print(\"Area of Rectangle:\", r.area())# Output: Area of Rectangle: 24\n",
        ""
      ],
      "metadata": {
        "colab": {
          "base_uri": "https://localhost:8080/"
        },
        "id": "4rlt8OsQaz3R",
        "outputId": "882f74bc-120c-4da0-b8e5-f304d4e59c1b"
      },
      "execution_count": 93,
      "outputs": [
        {
          "output_type": "stream",
          "name": "stdout",
          "text": [
            "Area of Circle: 78.53981633974483\n",
            "Area of Rectangle: 24\n"
          ]
        }
      ]
    },
    {
      "cell_type": "markdown",
      "source": [
        "**Q.3 Implement a multi-level inheritance scenario where a class Vehicle has an attribute type. Derive a class Car and further derive a class ElectricCar that adds a battery attribute.**"
      ],
      "metadata": {
        "id": "JgL1eg2QXfSI"
      }
    },
    {
      "cell_type": "code",
      "source": [
        "#Ans:\n",
        "# Base class\n",
        "class Vehicle:\n",
        "    def __init__(self, type):\n",
        "        self.type = type\n",
        "\n",
        "# Derived class from Vehicle\n",
        "class Car(Vehicle):\n",
        "    def __init__(self, type, brand):\n",
        "        super().__init__(type)  # Call Vehicle's constructor\n",
        "        self.brand = brand\n",
        "\n",
        "# Further derived class from Car\n",
        "class ElectricCar(Car):\n",
        "    def __init__(self, type, brand, battery):\n",
        "        super().__init__(type, brand)  # Call Car's constructor\n",
        "        self.battery = battery\n",
        "\n",
        "    def display_info(self):\n",
        "        print(f\"Type: {self.type}\")\n",
        "        print(f\"Brand: {self.brand}\")\n",
        "        print(f\"Battery: {self.battery} kWh\")\n",
        "\n",
        "# Create an ElectricCar object\n",
        "tesla = ElectricCar(\"Electric\", \"Tesla\", 75)\n",
        "tesla.display_info()\n",
        "\n",
        "\n"
      ],
      "metadata": {
        "colab": {
          "base_uri": "https://localhost:8080/"
        },
        "id": "SKEpFVdMa5kL",
        "outputId": "b139a683-92c5-4b7c-b4e7-07b24c73377c"
      },
      "execution_count": 94,
      "outputs": [
        {
          "output_type": "stream",
          "name": "stdout",
          "text": [
            "Type: Electric\n",
            "Brand: Tesla\n",
            "Battery: 75 kWh\n"
          ]
        }
      ]
    },
    {
      "cell_type": "markdown",
      "source": [
        "**Q.4 Demonstrate polymorphism by creating a base class Bird with a method fly(). Create two derived classes Sparrow and Penguin that override the fly() method**"
      ],
      "metadata": {
        "id": "ZaqcoFn4XfZ9"
      }
    },
    {
      "cell_type": "code",
      "source": [
        "#Ans:Python Program: Polymorphism with Bird, Sparrow, and Penguin\n",
        "# Base class\n",
        "class Bird:\n",
        "    def fly(self):\n",
        "        print(\"Some birds can fly.\")\n",
        "\n",
        "# Derived class\n",
        "class Sparrow(Bird):\n",
        "    def fly(self):\n",
        "        print(\"Sparrow flies high in the sky.\")\n",
        "\n",
        "# Derived class\n",
        "class Penguin(Bird):\n",
        "    def fly(self):\n",
        "        print(\"Penguins cannot fly but they swim well.\")\n",
        "\n",
        "# Polymorphism in action\n",
        "def bird_flight(bird):\n",
        "    bird.fly()\n",
        "\n",
        "# Create instances\n",
        "sparrow = Sparrow()\n",
        "penguin = Penguin()\n",
        "\n",
        "# Test polymorphic behavior\n",
        "bird_flight(sparrow)  # Output: Sparrow flies high in the sky.\n",
        "bird_flight(penguin)  # Output: Penguins cannot fly but they swim well.\n",
        "\n",
        "\n"
      ],
      "metadata": {
        "id": "L3sDfhdCa6cY",
        "colab": {
          "base_uri": "https://localhost:8080/"
        },
        "outputId": "c4e7497b-b812-43c9-e5ef-1d57c0ee6d69"
      },
      "execution_count": 95,
      "outputs": [
        {
          "output_type": "stream",
          "name": "stdout",
          "text": [
            "Sparrow flies high in the sky.\n",
            "Penguins cannot fly but they swim well.\n"
          ]
        }
      ]
    },
    {
      "cell_type": "markdown",
      "source": [
        "**Q.5  Write a program to demonstrate encapsulation by creating a class BankAccount with private attributes balance and methods to deposit, withdraw, and check balance.**"
      ],
      "metadata": {
        "id": "vQtainHLXfid"
      }
    },
    {
      "cell_type": "code",
      "source": [
        "#Ans: Python program that demonstrates encapsulation using a BankAccount class with private attributes and public methods for interaction:\n",
        "class BankAccount:\n",
        "    def __init__(self, initial_balance=0):\n",
        "        self.__balance = initial_balance  # Private attribute\n",
        "\n",
        "    def deposit(self, amount):\n",
        "        if amount > 0:\n",
        "            self.__balance += amount\n",
        "            print(f\"Deposited: ${amount}\")\n",
        "        else:\n",
        "            print(\"Deposit amount must be positive.\")\n",
        "\n",
        "    def withdraw(self, amount):\n",
        "        if amount <= self.__balance:\n",
        "            self.__balance -= amount\n",
        "            print(f\"Withdrawn: ${amount}\")\n",
        "        else:\n",
        "            print(\"Insufficient funds.\")\n",
        "\n",
        "    def check_balance(self):\n",
        "        print(f\"Current Balance: ${self.__balance}\")\n",
        "\n",
        "# Test the BankAccount class\n",
        "account = BankAccount(1000)\n",
        "account.check_balance()      # Output: Current Balance: $1000\n",
        "account.deposit(150)          # Output: Deposited: $150\n",
        "account.withdraw(100)         # Output: Withdrawn: $100\n",
        "account.check_balance()      # Output: Current Balance: $1050\n",
        "\n",
        "# Trying to access private variable directly (not recommended)\n",
        "# print(account.__balance)   # ❌ AttributeError\n",
        "\n",
        "# Accessing private attribute (not recommended but possible)\n",
        "# print(account._BankAccount__balance)  # 🔓 Not best practice"
      ],
      "metadata": {
        "colab": {
          "base_uri": "https://localhost:8080/"
        },
        "id": "ySJRlKana9e8",
        "outputId": "612fa185-c205-4bac-8cd1-747df7136a40"
      },
      "execution_count": 96,
      "outputs": [
        {
          "output_type": "stream",
          "name": "stdout",
          "text": [
            "Current Balance: $1000\n",
            "Deposited: $150\n",
            "Withdrawn: $100\n",
            "Current Balance: $1050\n"
          ]
        }
      ]
    },
    {
      "cell_type": "markdown",
      "source": [
        "**Q.6 Demonstrate runtime polymorphism using a method play() in a base class Instrument. Derive classes Guitar and Piano that implement their own version of play()**"
      ],
      "metadata": {
        "id": "N6WelunZXfq4"
      }
    },
    {
      "cell_type": "code",
      "source": [
        "#Ans:Python Program: Runtime Polymorphism with Instrument, Guitar, and Piano\n",
        "# Base class\n",
        "class Instrument:\n",
        "    def play(self):\n",
        "        print(\"Playing an instrument.\")\n",
        "\n",
        "# Derived class\n",
        "class Guitar(Instrument):\n",
        "    def play(self):\n",
        "        print(\"Strumming the guitar.\")\n",
        "\n",
        "# Derived class\n",
        "class Piano(Instrument):\n",
        "    def play(self):\n",
        "        print(\"Playing the piano keys.\")\n",
        "\n",
        "# Polymorphic function\n",
        "def perform(instrument: Instrument):\n",
        "    instrument.play()\n",
        "\n",
        "# Create instances\n",
        "guitar = Guitar()\n",
        "piano = Piano()\n",
        "\n",
        "# Runtime polymorphism in action\n",
        "perform(guitar)  # Output: Strumming the guitar.\n",
        "perform(piano)   # Output: Playing the piano keys.\n",
        "\n",
        ""
      ],
      "metadata": {
        "colab": {
          "base_uri": "https://localhost:8080/"
        },
        "id": "u5QObaCGa-s6",
        "outputId": "abd637ca-c7ea-4df0-9e5a-0c423bf1eda1"
      },
      "execution_count": 97,
      "outputs": [
        {
          "output_type": "stream",
          "name": "stdout",
          "text": [
            "Strumming the guitar.\n",
            "Playing the piano keys.\n"
          ]
        }
      ]
    },
    {
      "cell_type": "markdown",
      "source": [
        "\n",
        "**Q.7  Create a class MathOperations with a class method add_numbers() to add two numbers and a static method subtract_numbers() to subtract two numbers**"
      ],
      "metadata": {
        "id": "9cU1WolvLGuO"
      }
    },
    {
      "cell_type": "markdown",
      "source": [
        "Ans:\n",
        "Here's a simple Python program that defines a class MathOperations with:\n",
        "- A class method add_numbers() that adds two numbers.\n",
        "- A static method subtract_numbers() that subtracts two numbers."
      ],
      "metadata": {
        "id": "Ci1NwK_5GW_c"
      }
    },
    {
      "cell_type": "code",
      "source": [
        "class MathOperations:\n",
        "# Class method to add two numbers\n",
        "    @classmethod\n",
        "    def add_numbers(cls, a, b):\n",
        "        return a + b\n",
        "\n",
        "# Static method to subtract two numbers\n",
        "    @staticmethod\n",
        "    def subtract_numbers(a, b):\n",
        "        return a - b\n",
        "\n",
        "# Using the class method\n",
        "sum_result = MathOperations.add_numbers(10, 5)\n",
        "print(f\"Sum: {sum_result}\")  # Output: Sum: 15\n",
        "\n",
        "# Using the static method\n",
        "diff_result = MathOperations.subtract_numbers(10, 5)\n",
        "print(f\"Difference: {diff_result}\")  # Output: Difference: 5\n"
      ],
      "metadata": {
        "colab": {
          "base_uri": "https://localhost:8080/"
        },
        "id": "gxEUonxRda9p",
        "outputId": "f805c8ed-9bb3-4cc3-dc9d-1138cfceb475"
      },
      "execution_count": 98,
      "outputs": [
        {
          "output_type": "stream",
          "name": "stdout",
          "text": [
            "Sum: 15\n",
            "Difference: 5\n"
          ]
        }
      ]
    },
    {
      "cell_type": "markdown",
      "source": [
        "**Q.8   Implement a class Person with a class method to count the total number of persons created.**  "
      ],
      "metadata": {
        "id": "yAlvOd0cXfy9"
      }
    },
    {
      "cell_type": "code",
      "source": [
        "#Ans: Python Program: Counting Instances Using a Class Method\n",
        "class Person:\n",
        "    count = 0  # Class variable to track the number of persons\n",
        "\n",
        "    def __init__(self, name):\n",
        "        self.name = name\n",
        "        Person.count += 1  # Increment count when a new Person is created\n",
        "\n",
        "    @classmethod\n",
        "    def total_persons(cls):\n",
        "        return cls.count\n",
        "\n",
        "# Create some Person objects\n",
        "p1 = Person(\"ABC\")\n",
        "p2 = Person(\"PQR\")\n",
        "p3 = Person(\"XYZ\")\n",
        "\n",
        "# Use the class method to check the count\n",
        "print(f\"Total persons created: {Person.total_persons()}\")  # Output: 3"
      ],
      "metadata": {
        "colab": {
          "base_uri": "https://localhost:8080/"
        },
        "id": "wq2W5zM3a_g5",
        "outputId": "14368274-d800-444f-c90d-2d94869ab196"
      },
      "execution_count": 99,
      "outputs": [
        {
          "output_type": "stream",
          "name": "stdout",
          "text": [
            "Total persons created: 3\n"
          ]
        }
      ]
    },
    {
      "cell_type": "markdown",
      "source": [
        "**Q.9  Write a class Fraction with attributes numerator and denominator. Override the str method to display the fraction as \"numerator/denominator\".**"
      ],
      "metadata": {
        "id": "uh-jW_eBXf6z"
      }
    },
    {
      "cell_type": "code",
      "source": [
        "#Ans:Python Program: Fraction Class with Custom __str__\n",
        "class Fraction:\n",
        "    def __init__(self, numerator, denominator):\n",
        "        self.numerator = numerator\n",
        "        self.denominator = denominator\n",
        "\n",
        "    def __str__(self):\n",
        "        return f\"{self.numerator}/{self.denominator}\"\n",
        "\n",
        "# Create and display Fraction objects\n",
        "f1 = Fraction(3, 4)\n",
        "f2 = Fraction(5, 8)\n",
        "\n",
        "# Printing the objects\n",
        "print(\"Fraction 1:\", f1)   # Output: 3/4\n",
        "print(\"Fraction 2:\", f2)   # Output: 5/8\n",
        "\n"
      ],
      "metadata": {
        "colab": {
          "base_uri": "https://localhost:8080/"
        },
        "id": "87suP_QQbAPS",
        "outputId": "a4b94dae-8731-4d89-8655-fa70a7216e95"
      },
      "execution_count": 100,
      "outputs": [
        {
          "output_type": "stream",
          "name": "stdout",
          "text": [
            "Fraction 1: 3/4\n",
            "Fraction 2: 5/8\n"
          ]
        }
      ]
    },
    {
      "cell_type": "markdown",
      "source": [
        "**Q.10   Demonstrate operator overloading by creating a class Vector and overriding the add method to add two vectors**\n"
      ],
      "metadata": {
        "id": "Xj0lkb7-XgC7"
      }
    },
    {
      "cell_type": "code",
      "source": [
        "#Ans: Python Program: Operator Overloading in Vector Class\n",
        "class Vector:\n",
        "    def __init__(self, x, y):\n",
        "        self.x = x\n",
        "        self.y = y\n",
        "\n",
        "    def __add__(self, other):\n",
        "        return Vector(self.x + other.x, self.y + other.y)\n",
        "\n",
        "    def __str__(self):\n",
        "        return f\"({self.x}, {self.y})\"\n",
        "\n",
        "# Create vector instances\n",
        "v1 = Vector(2, 3)\n",
        "v2 = Vector(4, 1)\n",
        "\n",
        "# Add vectors using overloaded + operator\n",
        "v3 = v1 + v2\n",
        "\n",
        "# Display result\n",
        "print(f\"v1 + v2 = {v3}\")  # Output: v1 + v2 = (6, 4)\n"
      ],
      "metadata": {
        "colab": {
          "base_uri": "https://localhost:8080/"
        },
        "id": "ej2q3_WybBbL",
        "outputId": "ede6f63d-e6b7-4685-dc6c-4ccd99d83213"
      },
      "execution_count": 101,
      "outputs": [
        {
          "output_type": "stream",
          "name": "stdout",
          "text": [
            "v1 + v2 = (6, 4)\n"
          ]
        }
      ]
    },
    {
      "cell_type": "markdown",
      "source": [
        "**Q.11Create a class Person with attributes name and age. Add a method greet() that prints \"Hello, my name is {name} and I am {age} years old.\"**"
      ],
      "metadata": {
        "id": "3_lPhbtBXgKO"
      }
    },
    {
      "cell_type": "code",
      "source": [
        "#Ans:  Here's a simple Python class Person that includes the attributes name and age, and a method greet() that prints a personalized greeting:\n",
        "class Person:\n",
        "    def __init__(self, name, age):\n",
        "        self.name = name\n",
        "        self.age = age\n",
        "\n",
        "    def greet(self):\n",
        "        print(f\"Hello, my name is {self.name} and I am {self.age} years old.\")\n",
        "\n",
        "# Creating an object of Person\n",
        "person1 = Person(\"Maheshwari\", 26)\n",
        "\n",
        "# Calling the greet method\n",
        "person1.greet()\n"
      ],
      "metadata": {
        "colab": {
          "base_uri": "https://localhost:8080/"
        },
        "id": "8Z3dENdDbCed",
        "outputId": "7074da57-9724-4d4d-dbe1-92cd74bfbfc8"
      },
      "execution_count": 102,
      "outputs": [
        {
          "output_type": "stream",
          "name": "stdout",
          "text": [
            "Hello, my name is Maheshwari and I am 26 years old.\n"
          ]
        }
      ]
    },
    {
      "cell_type": "markdown",
      "source": [
        "**Q.12   Implement a class Student with attributes name and grades. Create a method average_grade() to compute the average of the grades.**"
      ],
      "metadata": {
        "id": "Q8Gq0ExwXgRR"
      }
    },
    {
      "cell_type": "code",
      "source": [
        "#Ans: We can implement the Student class with name and grades attributes, along with the average_grade() method:\n",
        "class Student:\n",
        "    def __init__(self, name, grades):\n",
        "        self.name = name\n",
        "        self.grades = grades  # List of numeric grades\n",
        "\n",
        "    def average_grade(self):\n",
        "        if self.grades:\n",
        "            avg = sum(self.grades) / len(self.grades)\n",
        "            print(f\"{self.name}'s average grade is: {avg:.2f}\")\n",
        "        else:\n",
        "            print(f\"{self.name} has no grades to calculate average.\")\n",
        "\n",
        "# Creating an object of Student\n",
        "student1 = Student(\"Ishita\", [85, 90, 78, 92])\n",
        "\n",
        "# Calling the average_grade method\n",
        "student1.average_grade()\n"
      ],
      "metadata": {
        "colab": {
          "base_uri": "https://localhost:8080/"
        },
        "id": "yiZLztgCbDvS",
        "outputId": "25423059-8bc1-4e97-8f67-f061a65d5929"
      },
      "execution_count": 103,
      "outputs": [
        {
          "output_type": "stream",
          "name": "stdout",
          "text": [
            "Ishita's average grade is: 86.25\n"
          ]
        }
      ]
    },
    {
      "cell_type": "markdown",
      "source": [
        "**Q.13   Create a class Rectangle with methods set_dimensions() to set the dimensions and area() to calculate the area**"
      ],
      "metadata": {
        "id": "n3a9_pktXgXu"
      }
    },
    {
      "cell_type": "code",
      "source": [
        "#Ans: We can create a Rectangle class with a set_dimensions() method to set the width and length, and an area() method to compute the area:\n",
        "class Rectangle:\n",
        "    def __init__(self):\n",
        "        self.length = 0\n",
        "        self.width = 0\n",
        "\n",
        "    def set_dimensions(self, length, width):\n",
        "        \"\"\"Set the dimensions of the rectangle.\"\"\"\n",
        "        self.length = length\n",
        "        self.width = width\n",
        "        print(f\"Dimensions set: Length = {length}, Width = {width}\")\n",
        "\n",
        "    def area(self):\n",
        "        \"\"\"Calculate and return the area of the rectangle.\"\"\"\n",
        "        area = self.length * self.width\n",
        "        print(f\"Area of the rectangle is: {area}\")\n",
        "        return area\n",
        "\n",
        "# Creating object and testing\n",
        "rect = Rectangle()\n",
        "rect.set_dimensions(10, 5)\n",
        "rect.area()\n",
        "\n",
        "\n",
        "\n"
      ],
      "metadata": {
        "colab": {
          "base_uri": "https://localhost:8080/"
        },
        "id": "XcDhfF6-bEy-",
        "outputId": "5ad1a8ef-84c9-4acb-dfca-2a97d8bd6922"
      },
      "execution_count": 104,
      "outputs": [
        {
          "output_type": "stream",
          "name": "stdout",
          "text": [
            "Dimensions set: Length = 10, Width = 5\n",
            "Area of the rectangle is: 50\n"
          ]
        },
        {
          "output_type": "execute_result",
          "data": {
            "text/plain": [
              "50"
            ]
          },
          "metadata": {},
          "execution_count": 104
        }
      ]
    },
    {
      "cell_type": "markdown",
      "source": [
        "**Q.14 Create a class Employee with a method calculate_salary() that computes the salary based on hours worked and hourly rate. Create a derived class Manager that adds a bonus to the salary**\n"
      ],
      "metadata": {
        "id": "W_HHJ6gcXgfC"
      }
    },
    {
      "cell_type": "code",
      "execution_count": 105,
      "metadata": {
        "id": "133fad30-b55e-41c7-9ff0-3f2f2a6ab285",
        "colab": {
          "base_uri": "https://localhost:8080/"
        },
        "outputId": "979f3c52-7688-4778-df95-0a74d90cc85d"
      },
      "outputs": [
        {
          "output_type": "stream",
          "name": "stdout",
          "text": [
            "Ravi's Base Salary: ₹8000\n",
            "\n",
            "Anita's Base Salary: ₹11250\n",
            "Anita's Total Salary with Bonus: ₹16250\n"
          ]
        },
        {
          "output_type": "execute_result",
          "data": {
            "text/plain": [
              "16250"
            ]
          },
          "metadata": {},
          "execution_count": 105
        }
      ],
      "source": [
        "#Ans:Here's how you can implement the Employee class and the derived Manager class with a calculate_salary() method:\n",
        "# Parent class: Employee\n",
        "class Employee:\n",
        "    def __init__(self, name, hours_worked, hourly_rate):\n",
        "        self.name = name\n",
        "        self.hours_worked = hours_worked\n",
        "        self.hourly_rate = hourly_rate\n",
        "\n",
        "    def calculate_salary(self):\n",
        "        \"\"\"Calculates basic salary = hours × rate\"\"\"\n",
        "        salary = self.hours_worked * self.hourly_rate\n",
        "        print(f\"{self.name}'s Base Salary: ₹{salary}\")\n",
        "        return salary\n",
        "\n",
        "\n",
        "# Derived class: Manager\n",
        "class Manager(Employee):\n",
        "    def __init__(self, name, hours_worked, hourly_rate, bonus):\n",
        "        # Call parent class constructor\n",
        "        super().__init__(name, hours_worked, hourly_rate)\n",
        "        self.bonus = bonus\n",
        "\n",
        "    def calculate_salary(self):\n",
        "        \"\"\"Calculates total salary including bonus\"\"\"\n",
        "        base_salary = super().calculate_salary()\n",
        "        total_salary = base_salary + self.bonus\n",
        "        print(f\"{self.name}'s Total Salary with Bonus: ₹{total_salary}\")\n",
        "        return total_salary\n",
        "\n",
        "\n",
        "# Example usage:\n",
        "emp1 = Employee(\"Ravi\", 40, 200)\n",
        "emp1.calculate_salary()\n",
        "\n",
        "print()\n",
        "\n",
        "mgr1 = Manager(\"Anita\", 45, 250, 5000)\n",
        "mgr1.calculate_salary()\n"
      ]
    },
    {
      "cell_type": "markdown",
      "source": [
        "**Q.15  Create a class Product with attributes name, price, and quantity. Implement a method total_price() that calculates the total price of the product.**"
      ],
      "metadata": {
        "id": "ekEMMoY-XgnR"
      }
    },
    {
      "cell_type": "code",
      "execution_count": 106,
      "metadata": {
        "id": "94a07ef9-e9fd-4d0a-8fc4-d7657d70e3fd",
        "colab": {
          "base_uri": "https://localhost:8080/"
        },
        "outputId": "f5400e9d-f55b-476b-a21d-c9456b7fd634"
      },
      "outputs": [
        {
          "output_type": "stream",
          "name": "stdout",
          "text": [
            "Total price of 2 Laptop(s): ₹100000\n",
            "Total price of 10 Notebook(s): ₹500\n"
          ]
        },
        {
          "output_type": "execute_result",
          "data": {
            "text/plain": [
              "500"
            ]
          },
          "metadata": {},
          "execution_count": 106
        }
      ],
      "source": [
        "# Ans : Here's a simple implementation of the Product class with name, price, and quantity attributes, along with a total_price() method:\n",
        "class Product:\n",
        "    def __init__(self, name, price, quantity):\n",
        "        self.name = name\n",
        "        self.price = price\n",
        "        self.quantity = quantity\n",
        "\n",
        "    def total_price(self):\n",
        "        \"\"\"Calculates total price = price × quantity\"\"\"\n",
        "        total = self.price * self.quantity\n",
        "        print(f\"Total price of {self.quantity} {self.name}(s): ₹{total}\")\n",
        "        return total\n",
        "\n",
        "\n",
        "# Example usage:\n",
        "product1 = Product(\"Laptop\", 50000, 2)\n",
        "product1.total_price()\n",
        "\n",
        "product2 = Product(\"Notebook\", 50, 10)\n",
        "product2.total_price()\n",
        "\n"
      ]
    },
    {
      "cell_type": "markdown",
      "source": [
        "**Q.16 Create a class Animal with an abstract method sound(). Create two derived classes Cow and Sheep that implement the sound() method.**"
      ],
      "metadata": {
        "id": "-AfQkjLKEUAQ"
      }
    },
    {
      "cell_type": "code",
      "execution_count": 107,
      "metadata": {
        "id": "14607948-4927-47c1-8cfc-b94e0d497765",
        "colab": {
          "base_uri": "https://localhost:8080/"
        },
        "outputId": "58d4a068-cafb-4d73-f14f-93e2e067e12a"
      },
      "outputs": [
        {
          "output_type": "stream",
          "name": "stdout",
          "text": [
            "Cow says: Moo!\n",
            "Sheep says: Baa!\n"
          ]
        }
      ],
      "source": [
        "#Ans. To create an abstract method in Python, we use the abc module. Here's how you can implement the Animal class with an abstract method sound(), and the derived classes Cow and Sheep that implement it:\n",
        "from abc import ABC, abstractmethod\n",
        "\n",
        "# Abstract Base Class\n",
        "class Animal(ABC):\n",
        "    @abstractmethod\n",
        "    def sound(self):\n",
        "        pass\n",
        "\n",
        "# Derived Class Cow\n",
        "class Cow(Animal):\n",
        "    def sound(self):\n",
        "        print(\"Cow says: Moo!\")\n",
        "\n",
        "# Derived Class Sheep\n",
        "class Sheep(Animal):\n",
        "    def sound(self):\n",
        "        print(\"Sheep says: Baa!\")\n",
        "\n",
        "# Example usage\n",
        "cow = Cow()\n",
        "cow.sound()     # Output: Cow says: Moo!\n",
        "\n",
        "sheep = Sheep()\n",
        "sheep.sound()   # Output: Sheep says: Baa!\n"
      ]
    },
    {
      "cell_type": "markdown",
      "source": [
        "**Q.17 Create a class Book with attributes title, author, and year_published. Add a method get_book_info() that returns a formatted string with the book's details.**"
      ],
      "metadata": {
        "id": "0CIbVKJREY33"
      }
    },
    {
      "cell_type": "code",
      "execution_count": 108,
      "metadata": {
        "id": "1b21b701-e9b5-4fe9-833a-24ac13e6003c",
        "colab": {
          "base_uri": "https://localhost:8080/"
        },
        "outputId": "b4c53052-ca6a-4b44-d43f-0d74f7460411"
      },
      "outputs": [
        {
          "output_type": "stream",
          "name": "stdout",
          "text": [
            "Book: 'Wings of Fire' | Author: A.P.J. Abdul Kalam | Year: 1999\n"
          ]
        }
      ],
      "source": [
        "#Ans : Here's how you can implement the Book class with the required attributes and the get_book_info() method:\n",
        "class Book:\n",
        "    def __init__(self, title, author, year_published):\n",
        "        self.title = title\n",
        "        self.author = author\n",
        "        self.year_published = year_published\n",
        "\n",
        "    def get_book_info(self):\n",
        "        return f\"Book: '{self.title}' | Author: {self.author} | Year: {self.year_published}\"\n",
        "\n",
        "# Example usage\n",
        "kalam_book = Book(\"Wings of Fire\", \"A.P.J. Abdul Kalam\", 1999)\n",
        "print(kalam_book.get_book_info())  # Output: Book: 'Wings of Fire' | Author: A.P.J. Abdul Kalam | Year: 1999\n"
      ]
    },
    {
      "cell_type": "markdown",
      "source": [
        "**Q.18  Create a class House with attributes address and price. Create a derived class Mansion that adds an attribute number_of_rooms.**"
      ],
      "metadata": {
        "id": "dUf5FkykEZtw"
      }
    },
    {
      "cell_type": "code",
      "execution_count": 109,
      "metadata": {
        "id": "2d5ae912-0c4c-40cc-9ba3-fae0ac2168d5",
        "colab": {
          "base_uri": "https://localhost:8080/"
        },
        "outputId": "58b3c8d7-ebff-4fea-cba8-cff3007b90aa"
      },
      "outputs": [
        {
          "output_type": "stream",
          "name": "stdout",
          "text": [
            "House located at Green Valley costs ₹7500000\n",
            "House located at Beverly Hills costs ₹100000000 and has 8 bathrooms\n"
          ]
        }
      ],
      "source": [
        "#Ans:Here's how you can define a House class with address and price, and a derived class Mansion that adds the number_of_rooms attribute:\n",
        "class House:\n",
        "    def __init__(self, location, price):\n",
        "        self.location = location\n",
        "        self.price = price\n",
        "\n",
        "    def get_details(self):\n",
        "        return f\"House located at {self.location} costs ₹{self.price}\"\n",
        "\n",
        "class Mansion(House):\n",
        "    def __init__(self, location, price, number_of_bathrooms):\n",
        "        super().__init__(location, price)\n",
        "        self.number_of_bathrooms = number_of_bathrooms\n",
        "\n",
        "    def get_details(self):\n",
        "        base_details = super().get_details()\n",
        "        return f\"{base_details} and has {self.number_of_bathrooms} bathrooms\"\n",
        "\n",
        "# Example usage\n",
        "simple_house = House(\"Green Valley\", 7500000)\n",
        "print(simple_house.get_details())\n",
        "\n",
        "luxury_mansion = Mansion(\"Beverly Hills\", 100000000, 8)\n",
        "print(luxury_mansion.get_details())\n",
        "\n"
      ]
    }
  ]
}